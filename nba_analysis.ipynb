{
 "cells": [
  {
   "cell_type": "code",
   "execution_count": 19,
   "id": "3ab654b2",
   "metadata": {},
   "outputs": [],
   "source": [
    "import pandas as pd\n",
    "import numpy as np\n",
    "\n",
    "import matplotlib.pyplot as plt \n",
    "import seaborn as sns \n",
    "\n",
    "%matplotlib inline"
   ]
  },
  {
   "cell_type": "code",
   "execution_count": 20,
   "id": "406efe3d",
   "metadata": {},
   "outputs": [
    {
     "data": {
      "text/html": [
       "<div>\n",
       "<style scoped>\n",
       "    .dataframe tbody tr th:only-of-type {\n",
       "        vertical-align: middle;\n",
       "    }\n",
       "\n",
       "    .dataframe tbody tr th {\n",
       "        vertical-align: top;\n",
       "    }\n",
       "\n",
       "    .dataframe thead th {\n",
       "        text-align: right;\n",
       "    }\n",
       "</style>\n",
       "<table border=\"1\" class=\"dataframe\">\n",
       "  <thead>\n",
       "    <tr style=\"text-align: right;\">\n",
       "      <th></th>\n",
       "      <th>Rk</th>\n",
       "      <th>Player</th>\n",
       "      <th>ID</th>\n",
       "      <th>Pos</th>\n",
       "      <th>Age</th>\n",
       "      <th>Tm</th>\n",
       "      <th>G</th>\n",
       "      <th>MP</th>\n",
       "      <th>PER</th>\n",
       "      <th>TS%</th>\n",
       "      <th>...</th>\n",
       "      <th>TOV%</th>\n",
       "      <th>USG%</th>\n",
       "      <th>OWS</th>\n",
       "      <th>DWS</th>\n",
       "      <th>WS</th>\n",
       "      <th>WS/48</th>\n",
       "      <th>OBPM</th>\n",
       "      <th>DBPM</th>\n",
       "      <th>BPM</th>\n",
       "      <th>VORP</th>\n",
       "    </tr>\n",
       "  </thead>\n",
       "  <tbody>\n",
       "    <tr>\n",
       "      <th>0</th>\n",
       "      <td>1</td>\n",
       "      <td>Precious Achiuwa</td>\n",
       "      <td>achiupr01</td>\n",
       "      <td>PF</td>\n",
       "      <td>21</td>\n",
       "      <td>MIA</td>\n",
       "      <td>61</td>\n",
       "      <td>737</td>\n",
       "      <td>14.2</td>\n",
       "      <td>0.550</td>\n",
       "      <td>...</td>\n",
       "      <td>13.5</td>\n",
       "      <td>19.5</td>\n",
       "      <td>0.3</td>\n",
       "      <td>1.0</td>\n",
       "      <td>1.3</td>\n",
       "      <td>0.085</td>\n",
       "      <td>-3.6</td>\n",
       "      <td>-0.5</td>\n",
       "      <td>-4.1</td>\n",
       "      <td>-0.4</td>\n",
       "    </tr>\n",
       "    <tr>\n",
       "      <th>1</th>\n",
       "      <td>2</td>\n",
       "      <td>Jaylen Adams</td>\n",
       "      <td>adamsja01</td>\n",
       "      <td>PG</td>\n",
       "      <td>24</td>\n",
       "      <td>MIL</td>\n",
       "      <td>7</td>\n",
       "      <td>18</td>\n",
       "      <td>-6.5</td>\n",
       "      <td>0.125</td>\n",
       "      <td>...</td>\n",
       "      <td>0.0</td>\n",
       "      <td>18.6</td>\n",
       "      <td>-0.1</td>\n",
       "      <td>0.0</td>\n",
       "      <td>-0.1</td>\n",
       "      <td>-0.252</td>\n",
       "      <td>-15.1</td>\n",
       "      <td>-4.6</td>\n",
       "      <td>-19.8</td>\n",
       "      <td>-0.1</td>\n",
       "    </tr>\n",
       "    <tr>\n",
       "      <th>2</th>\n",
       "      <td>3</td>\n",
       "      <td>Steven Adams</td>\n",
       "      <td>adamsst01</td>\n",
       "      <td>C</td>\n",
       "      <td>27</td>\n",
       "      <td>NOP</td>\n",
       "      <td>58</td>\n",
       "      <td>1605</td>\n",
       "      <td>15.1</td>\n",
       "      <td>0.596</td>\n",
       "      <td>...</td>\n",
       "      <td>17.5</td>\n",
       "      <td>11.7</td>\n",
       "      <td>2.3</td>\n",
       "      <td>1.7</td>\n",
       "      <td>4.0</td>\n",
       "      <td>0.119</td>\n",
       "      <td>-0.4</td>\n",
       "      <td>0.1</td>\n",
       "      <td>-0.3</td>\n",
       "      <td>0.7</td>\n",
       "    </tr>\n",
       "    <tr>\n",
       "      <th>3</th>\n",
       "      <td>4</td>\n",
       "      <td>Bam Adebayo</td>\n",
       "      <td>adebaba01</td>\n",
       "      <td>C</td>\n",
       "      <td>23</td>\n",
       "      <td>MIA</td>\n",
       "      <td>64</td>\n",
       "      <td>2143</td>\n",
       "      <td>22.7</td>\n",
       "      <td>0.626</td>\n",
       "      <td>...</td>\n",
       "      <td>15.0</td>\n",
       "      <td>23.7</td>\n",
       "      <td>5.6</td>\n",
       "      <td>3.2</td>\n",
       "      <td>8.8</td>\n",
       "      <td>0.197</td>\n",
       "      <td>2.9</td>\n",
       "      <td>2.0</td>\n",
       "      <td>4.9</td>\n",
       "      <td>3.7</td>\n",
       "    </tr>\n",
       "    <tr>\n",
       "      <th>4</th>\n",
       "      <td>5</td>\n",
       "      <td>LaMarcus Aldridge</td>\n",
       "      <td>aldrila01</td>\n",
       "      <td>C</td>\n",
       "      <td>35</td>\n",
       "      <td>TOT</td>\n",
       "      <td>26</td>\n",
       "      <td>674</td>\n",
       "      <td>15.7</td>\n",
       "      <td>0.556</td>\n",
       "      <td>...</td>\n",
       "      <td>7.9</td>\n",
       "      <td>22.2</td>\n",
       "      <td>0.5</td>\n",
       "      <td>0.6</td>\n",
       "      <td>1.1</td>\n",
       "      <td>0.080</td>\n",
       "      <td>-0.2</td>\n",
       "      <td>-0.2</td>\n",
       "      <td>-0.3</td>\n",
       "      <td>0.3</td>\n",
       "    </tr>\n",
       "  </tbody>\n",
       "</table>\n",
       "<p>5 rows × 28 columns</p>\n",
       "</div>"
      ],
      "text/plain": [
       "   Rk             Player         ID Pos  Age   Tm   G    MP   PER    TS%  ...  \\\n",
       "0   1   Precious Achiuwa  achiupr01  PF   21  MIA  61   737  14.2  0.550  ...   \n",
       "1   2       Jaylen Adams  adamsja01  PG   24  MIL   7    18  -6.5  0.125  ...   \n",
       "2   3       Steven Adams  adamsst01   C   27  NOP  58  1605  15.1  0.596  ...   \n",
       "3   4        Bam Adebayo  adebaba01   C   23  MIA  64  2143  22.7  0.626  ...   \n",
       "4   5  LaMarcus Aldridge  aldrila01   C   35  TOT  26   674  15.7  0.556  ...   \n",
       "\n",
       "   TOV%  USG%  OWS  DWS   WS  WS/48  OBPM  DBPM   BPM  VORP  \n",
       "0  13.5  19.5  0.3  1.0  1.3  0.085  -3.6  -0.5  -4.1  -0.4  \n",
       "1   0.0  18.6 -0.1  0.0 -0.1 -0.252 -15.1  -4.6 -19.8  -0.1  \n",
       "2  17.5  11.7  2.3  1.7  4.0  0.119  -0.4   0.1  -0.3   0.7  \n",
       "3  15.0  23.7  5.6  3.2  8.8  0.197   2.9   2.0   4.9   3.7  \n",
       "4   7.9  22.2  0.5  0.6  1.1  0.080  -0.2  -0.2  -0.3   0.3  \n",
       "\n",
       "[5 rows x 28 columns]"
      ]
     },
     "execution_count": 20,
     "metadata": {},
     "output_type": "execute_result"
    }
   ],
   "source": [
    "nba_adv = pd.read_csv('NBA2021.csv',encoding='latin')\n",
    "nba_adv.head()"
   ]
  },
  {
   "cell_type": "code",
   "execution_count": 21,
   "id": "72fb0ca2",
   "metadata": {},
   "outputs": [
    {
     "data": {
      "text/html": [
       "<div>\n",
       "<style scoped>\n",
       "    .dataframe tbody tr th:only-of-type {\n",
       "        vertical-align: middle;\n",
       "    }\n",
       "\n",
       "    .dataframe tbody tr th {\n",
       "        vertical-align: top;\n",
       "    }\n",
       "\n",
       "    .dataframe thead th {\n",
       "        text-align: right;\n",
       "    }\n",
       "</style>\n",
       "<table border=\"1\" class=\"dataframe\">\n",
       "  <thead>\n",
       "    <tr style=\"text-align: right;\">\n",
       "      <th></th>\n",
       "      <th>Rk</th>\n",
       "      <th>Player</th>\n",
       "      <th>ID</th>\n",
       "      <th>Pos</th>\n",
       "      <th>Age</th>\n",
       "      <th>Tm</th>\n",
       "      <th>G</th>\n",
       "      <th>GS</th>\n",
       "      <th>MP</th>\n",
       "      <th>FG</th>\n",
       "      <th>...</th>\n",
       "      <th>FT%</th>\n",
       "      <th>ORB</th>\n",
       "      <th>DRB</th>\n",
       "      <th>TRB</th>\n",
       "      <th>AST</th>\n",
       "      <th>STL</th>\n",
       "      <th>BLK</th>\n",
       "      <th>TOV</th>\n",
       "      <th>PF</th>\n",
       "      <th>PTS</th>\n",
       "    </tr>\n",
       "  </thead>\n",
       "  <tbody>\n",
       "    <tr>\n",
       "      <th>0</th>\n",
       "      <td>1</td>\n",
       "      <td>Precious Achiuwa</td>\n",
       "      <td>achiupr01</td>\n",
       "      <td>PF</td>\n",
       "      <td>21</td>\n",
       "      <td>MIA</td>\n",
       "      <td>61</td>\n",
       "      <td>4</td>\n",
       "      <td>737</td>\n",
       "      <td>124</td>\n",
       "      <td>...</td>\n",
       "      <td>0.509</td>\n",
       "      <td>73</td>\n",
       "      <td>135</td>\n",
       "      <td>208</td>\n",
       "      <td>29</td>\n",
       "      <td>20</td>\n",
       "      <td>28</td>\n",
       "      <td>43</td>\n",
       "      <td>91</td>\n",
       "      <td>304</td>\n",
       "    </tr>\n",
       "    <tr>\n",
       "      <th>1</th>\n",
       "      <td>2</td>\n",
       "      <td>Jaylen Adams</td>\n",
       "      <td>adamsja01</td>\n",
       "      <td>PG</td>\n",
       "      <td>24</td>\n",
       "      <td>MIL</td>\n",
       "      <td>7</td>\n",
       "      <td>0</td>\n",
       "      <td>18</td>\n",
       "      <td>1</td>\n",
       "      <td>...</td>\n",
       "      <td>NaN</td>\n",
       "      <td>0</td>\n",
       "      <td>3</td>\n",
       "      <td>3</td>\n",
       "      <td>2</td>\n",
       "      <td>0</td>\n",
       "      <td>0</td>\n",
       "      <td>0</td>\n",
       "      <td>1</td>\n",
       "      <td>2</td>\n",
       "    </tr>\n",
       "    <tr>\n",
       "      <th>2</th>\n",
       "      <td>3</td>\n",
       "      <td>Steven Adams</td>\n",
       "      <td>adamsst01</td>\n",
       "      <td>C</td>\n",
       "      <td>27</td>\n",
       "      <td>NOP</td>\n",
       "      <td>58</td>\n",
       "      <td>58</td>\n",
       "      <td>1605</td>\n",
       "      <td>189</td>\n",
       "      <td>...</td>\n",
       "      <td>0.444</td>\n",
       "      <td>213</td>\n",
       "      <td>301</td>\n",
       "      <td>514</td>\n",
       "      <td>111</td>\n",
       "      <td>54</td>\n",
       "      <td>38</td>\n",
       "      <td>78</td>\n",
       "      <td>113</td>\n",
       "      <td>438</td>\n",
       "    </tr>\n",
       "    <tr>\n",
       "      <th>3</th>\n",
       "      <td>4</td>\n",
       "      <td>Bam Adebayo</td>\n",
       "      <td>adebaba01</td>\n",
       "      <td>C</td>\n",
       "      <td>23</td>\n",
       "      <td>MIA</td>\n",
       "      <td>64</td>\n",
       "      <td>64</td>\n",
       "      <td>2143</td>\n",
       "      <td>456</td>\n",
       "      <td>...</td>\n",
       "      <td>0.799</td>\n",
       "      <td>142</td>\n",
       "      <td>431</td>\n",
       "      <td>573</td>\n",
       "      <td>346</td>\n",
       "      <td>75</td>\n",
       "      <td>66</td>\n",
       "      <td>169</td>\n",
       "      <td>145</td>\n",
       "      <td>1197</td>\n",
       "    </tr>\n",
       "    <tr>\n",
       "      <th>4</th>\n",
       "      <td>5</td>\n",
       "      <td>LaMarcus Aldridge</td>\n",
       "      <td>aldrila01</td>\n",
       "      <td>C</td>\n",
       "      <td>35</td>\n",
       "      <td>TOT</td>\n",
       "      <td>26</td>\n",
       "      <td>23</td>\n",
       "      <td>674</td>\n",
       "      <td>140</td>\n",
       "      <td>...</td>\n",
       "      <td>0.872</td>\n",
       "      <td>19</td>\n",
       "      <td>99</td>\n",
       "      <td>118</td>\n",
       "      <td>49</td>\n",
       "      <td>11</td>\n",
       "      <td>29</td>\n",
       "      <td>27</td>\n",
       "      <td>47</td>\n",
       "      <td>352</td>\n",
       "    </tr>\n",
       "  </tbody>\n",
       "</table>\n",
       "<p>5 rows × 31 columns</p>\n",
       "</div>"
      ],
      "text/plain": [
       "   Rk             Player         ID Pos  Age   Tm   G  GS    MP   FG  ...  \\\n",
       "0   1   Precious Achiuwa  achiupr01  PF   21  MIA  61   4   737  124  ...   \n",
       "1   2       Jaylen Adams  adamsja01  PG   24  MIL   7   0    18    1  ...   \n",
       "2   3       Steven Adams  adamsst01   C   27  NOP  58  58  1605  189  ...   \n",
       "3   4        Bam Adebayo  adebaba01   C   23  MIA  64  64  2143  456  ...   \n",
       "4   5  LaMarcus Aldridge  aldrila01   C   35  TOT  26  23   674  140  ...   \n",
       "\n",
       "     FT%  ORB  DRB  TRB  AST  STL  BLK  TOV   PF   PTS  \n",
       "0  0.509   73  135  208   29   20   28   43   91   304  \n",
       "1    NaN    0    3    3    2    0    0    0    1     2  \n",
       "2  0.444  213  301  514  111   54   38   78  113   438  \n",
       "3  0.799  142  431  573  346   75   66  169  145  1197  \n",
       "4  0.872   19   99  118   49   11   29   27   47   352  \n",
       "\n",
       "[5 rows x 31 columns]"
      ]
     },
     "execution_count": 21,
     "metadata": {},
     "output_type": "execute_result"
    }
   ],
   "source": [
    "nba_raw = pd.read_csv('NBA2021Raw.csv',encoding='latin')\n",
    "nba_raw.head()"
   ]
  },
  {
   "cell_type": "code",
   "execution_count": 22,
   "id": "58458c5e",
   "metadata": {},
   "outputs": [
    {
     "data": {
      "text/plain": [
       "Index(['Rk', 'Player', 'ID', 'Pos', 'Age', 'Tm', 'G', 'GS', 'MP', 'FG', 'FGA',\n",
       "       'FG%', '3P', '3PA', '3P%', '2P', '2PA', '2P%', 'eFG%', 'FT', 'FTA',\n",
       "       'FT%', 'ORB', 'DRB', 'TRB', 'AST', 'STL', 'BLK', 'TOV', 'PF', 'PTS'],\n",
       "      dtype='object')"
      ]
     },
     "execution_count": 22,
     "metadata": {},
     "output_type": "execute_result"
    }
   ],
   "source": [
    "nba_raw.columns"
   ]
  },
  {
   "cell_type": "code",
   "execution_count": 23,
   "id": "08709527",
   "metadata": {},
   "outputs": [
    {
     "name": "stdout",
     "output_type": "stream",
     "text": [
      "(705, 28) (705, 31)\n"
     ]
    }
   ],
   "source": [
    "print(nba_adv.shape , nba_raw.shape)"
   ]
  },
  {
   "cell_type": "code",
   "execution_count": 24,
   "id": "05a478d9",
   "metadata": {},
   "outputs": [
    {
     "data": {
      "text/plain": [
       "{'2P',\n",
       " '2P%',\n",
       " '2PA',\n",
       " '3P',\n",
       " '3P%',\n",
       " '3PA',\n",
       " 'AST',\n",
       " 'Age',\n",
       " 'BLK',\n",
       " 'DRB',\n",
       " 'FG',\n",
       " 'FG%',\n",
       " 'FGA',\n",
       " 'FT',\n",
       " 'FT%',\n",
       " 'FTA',\n",
       " 'G',\n",
       " 'GS',\n",
       " 'ID',\n",
       " 'MP',\n",
       " 'ORB',\n",
       " 'PF',\n",
       " 'PTS',\n",
       " 'Player',\n",
       " 'Pos',\n",
       " 'Rk',\n",
       " 'STL',\n",
       " 'TOV',\n",
       " 'TRB',\n",
       " 'Tm',\n",
       " 'eFG%'}"
      ]
     },
     "execution_count": 24,
     "metadata": {},
     "output_type": "execute_result"
    }
   ],
   "source": [
    "set(nba.columns)&set(nba_raw.columns)"
   ]
  },
  {
   "cell_type": "code",
   "execution_count": 29,
   "id": "4291d0b1",
   "metadata": {},
   "outputs": [],
   "source": [
    "nba_advD = nba_adv.drop(['Age', 'G', 'ID', 'MP', 'Pos', 'Rk',],axis=1)"
   ]
  },
  {
   "cell_type": "code",
   "execution_count": 30,
   "id": "43c4a59f",
   "metadata": {},
   "outputs": [],
   "source": [
    "nba = nba_raw.merge(nba_advD,on=['Player','Tm'])"
   ]
  },
  {
   "cell_type": "code",
   "execution_count": 31,
   "id": "40981d8e",
   "metadata": {},
   "outputs": [
    {
     "data": {
      "text/plain": [
       "(705, 51)"
      ]
     },
     "execution_count": 31,
     "metadata": {},
     "output_type": "execute_result"
    }
   ],
   "source": [
    "nba.shape"
   ]
  },
  {
   "cell_type": "code",
   "execution_count": 32,
   "id": "6bf41bea",
   "metadata": {},
   "outputs": [
    {
     "data": {
      "text/plain": [
       "Index(['Rk', 'Player', 'ID', 'Pos', 'Age', 'Tm', 'G', 'GS', 'MP', 'FG', 'FGA',\n",
       "       'FG%', '3P', '3PA', '3P%', '2P', '2PA', '2P%', 'eFG%', 'FT', 'FTA',\n",
       "       'FT%', 'ORB', 'DRB', 'TRB', 'AST', 'STL', 'BLK', 'TOV', 'PF', 'PTS',\n",
       "       'PER', 'TS%', '3PAr', 'FTr', 'ORB%', 'DRB%', 'TRB%', 'AST%', 'STL%',\n",
       "       'BLK%', 'TOV%', 'USG%', 'OWS', 'DWS', 'WS', 'WS/48', 'OBPM', 'DBPM',\n",
       "       'BPM', 'VORP'],\n",
       "      dtype='object')"
      ]
     },
     "execution_count": 32,
     "metadata": {},
     "output_type": "execute_result"
    }
   ],
   "source": [
    "nba.columns"
   ]
  },
  {
   "cell_type": "code",
   "execution_count": 35,
   "id": "b41e5eba",
   "metadata": {},
   "outputs": [
    {
     "data": {
      "image/png": "[encoded data removed]",
      "text/plain": [
       "<Figure size 432x288 with 1 Axes>"
      ]
     },
     "metadata": {
      "needs_background": "light"
     },
     "output_type": "display_data"
    }
   ],
   "source": [
    "plt.scatter(x='FG%',y='OBPM',data=nba)\n",
    "plt.show()"
   ]
  },
  {
   "cell_type": "code",
   "execution_count": 36,
   "id": "4c44b586",
   "metadata": {
    "scrolled": true
   },
   "outputs": [
    {
     "data": {
      "text/plain": [
       "49     2\n",
       "82     1\n",
       "83     3\n",
       "127    1\n",
       "264    4\n",
       "406    1\n",
       "507    1\n",
       "516    1\n",
       "654    3\n",
       "679    3\n",
       "Name: FGA, dtype: int64"
      ]
     },
     "execution_count": 36,
     "metadata": {},
     "output_type": "execute_result"
    }
   ],
   "source": [
    "nba[nba['FG%']==0]['FGA']"
   ]
  },
  {
   "cell_type": "markdown",
   "id": "0a5e45ae",
   "metadata": {},
   "source": [
    "Some players never took the shot "
   ]
  },
  {
   "cell_type": "code",
   "execution_count": 37,
   "id": "85da13ca",
   "metadata": {},
   "outputs": [
    {
     "data": {
      "text/html": [
       "<div>\n",
       "<style scoped>\n",
       "    .dataframe tbody tr th:only-of-type {\n",
       "        vertical-align: middle;\n",
       "    }\n",
       "\n",
       "    .dataframe tbody tr th {\n",
       "        vertical-align: top;\n",
       "    }\n",
       "\n",
       "    .dataframe thead th {\n",
       "        text-align: right;\n",
       "    }\n",
       "</style>\n",
       "<table border=\"1\" class=\"dataframe\">\n",
       "  <thead>\n",
       "    <tr style=\"text-align: right;\">\n",
       "      <th></th>\n",
       "      <th>Rk</th>\n",
       "      <th>Player</th>\n",
       "      <th>ID</th>\n",
       "      <th>Pos</th>\n",
       "      <th>Age</th>\n",
       "      <th>Tm</th>\n",
       "      <th>G</th>\n",
       "      <th>GS</th>\n",
       "      <th>MP</th>\n",
       "      <th>FG</th>\n",
       "      <th>...</th>\n",
       "      <th>TOV%</th>\n",
       "      <th>USG%</th>\n",
       "      <th>OWS</th>\n",
       "      <th>DWS</th>\n",
       "      <th>WS</th>\n",
       "      <th>WS/48</th>\n",
       "      <th>OBPM</th>\n",
       "      <th>DBPM</th>\n",
       "      <th>BPM</th>\n",
       "      <th>VORP</th>\n",
       "    </tr>\n",
       "  </thead>\n",
       "  <tbody>\n",
       "    <tr>\n",
       "      <th>126</th>\n",
       "      <td>100</td>\n",
       "      <td>Gary Clark</td>\n",
       "      <td>clarkga01</td>\n",
       "      <td>SF</td>\n",
       "      <td>26</td>\n",
       "      <td>DEN</td>\n",
       "      <td>2</td>\n",
       "      <td>0</td>\n",
       "      <td>4</td>\n",
       "      <td>0</td>\n",
       "      <td>...</td>\n",
       "      <td>0.0</td>\n",
       "      <td>0.037</td>\n",
       "      <td>-4.400</td>\n",
       "      <td>-2.0</td>\n",
       "      <td>-6.5</td>\n",
       "      <td>0.0</td>\n",
       "      <td>NaN</td>\n",
       "      <td>NaN</td>\n",
       "      <td>NaN</td>\n",
       "      <td>NaN</td>\n",
       "    </tr>\n",
       "    <tr>\n",
       "      <th>250</th>\n",
       "      <td>195</td>\n",
       "      <td>Ashton Hagans</td>\n",
       "      <td>haganas01</td>\n",
       "      <td>PG</td>\n",
       "      <td>21</td>\n",
       "      <td>MIN</td>\n",
       "      <td>2</td>\n",
       "      <td>0</td>\n",
       "      <td>4</td>\n",
       "      <td>0</td>\n",
       "      <td>...</td>\n",
       "      <td>0.0</td>\n",
       "      <td>0.000</td>\n",
       "      <td>-0.353</td>\n",
       "      <td>-13.7</td>\n",
       "      <td>-7.4</td>\n",
       "      <td>-21.1</td>\n",
       "      <td>0.0</td>\n",
       "      <td>NaN</td>\n",
       "      <td>NaN</td>\n",
       "      <td>NaN</td>\n",
       "    </tr>\n",
       "  </tbody>\n",
       "</table>\n",
       "<p>2 rows × 51 columns</p>\n",
       "</div>"
      ],
      "text/plain": [
       "      Rk         Player         ID Pos  Age   Tm  G  GS  MP  FG  ...  TOV%  \\\n",
       "126  100     Gary Clark  clarkga01  SF   26  DEN  2   0   4   0  ...   0.0   \n",
       "250  195  Ashton Hagans  haganas01  PG   21  MIN  2   0   4   0  ...   0.0   \n",
       "\n",
       "      USG%    OWS   DWS   WS  WS/48  OBPM  DBPM  BPM  VORP  \n",
       "126  0.037 -4.400  -2.0 -6.5    0.0   NaN   NaN  NaN   NaN  \n",
       "250  0.000 -0.353 -13.7 -7.4  -21.1   0.0   NaN  NaN   NaN  \n",
       "\n",
       "[2 rows x 51 columns]"
      ]
     },
     "execution_count": 37,
     "metadata": {},
     "output_type": "execute_result"
    }
   ],
   "source": [
    "nba[nba['FG%'].isna()]"
   ]
  },
  {
   "cell_type": "code",
   "execution_count": 39,
   "id": "fe68eb09",
   "metadata": {},
   "outputs": [
    {
     "data": {
      "image/png": "[encoded data removed]",
      "text/plain": [
       "<Figure size 432x288 with 1 Axes>"
      ]
     },
     "metadata": {
      "needs_background": "light"
     },
     "output_type": "display_data"
    }
   ],
   "source": [
    "nba['FGA'].hist(bins=30)\n",
    "plt.show()"
   ]
  },
  {
   "cell_type": "code",
   "execution_count": 41,
   "id": "30b167a7",
   "metadata": {
    "scrolled": true
   },
   "outputs": [
    {
     "data": {
      "image/png": "[encoded data removed]",
      "text/plain": [
       "<Figure size 432x288 with 1 Axes>"
      ]
     },
     "metadata": {
      "needs_background": "light"
     },
     "output_type": "display_data"
    }
   ],
   "source": [
    "nba.plot.scatter(x='MP',y='FG%')\n",
    "plt.show()"
   ]
  },
  {
   "cell_type": "markdown",
   "id": "15aa61e5",
   "metadata": {},
   "source": [
    "Best and worst FG% occur among players with very little playing time."
   ]
  },
  {
   "cell_type": "code",
   "execution_count": 45,
   "id": "fdca282d",
   "metadata": {},
   "outputs": [
    {
     "data": {
      "image/png": "[encoded data removed]",
      "text/plain": [
       "<Figure size 432x288 with 1 Axes>"
      ]
     },
     "metadata": {
      "needs_background": "light"
     },
     "output_type": "display_data"
    }
   ],
   "source": [
    "nba[nba['FGA']<50].plot.scatter(x='MP',y='FG%')\n",
    "plt.show()"
   ]
  },
  {
   "cell_type": "code",
   "execution_count": 44,
   "id": "2b3e3809",
   "metadata": {},
   "outputs": [
    {
     "data": {
      "image/png": "[encoded data removed]",
      "text/plain": [
       "<Figure size 432x288 with 1 Axes>"
      ]
     },
     "metadata": {
      "needs_background": "light"
     },
     "output_type": "display_data"
    }
   ],
   "source": [
    "nba[nba['MP']>=100].plot.scatter(x='MP',y='FG%')\n",
    "plt.show()"
   ]
  },
  {
   "cell_type": "code",
   "execution_count": null,
   "id": "29441f10",
   "metadata": {},
   "outputs": [],
   "source": []
  },
  {
   "cell_type": "code",
   "execution_count": null,
   "id": "963160c8",
   "metadata": {},
   "outputs": [],
   "source": []
  },
  {
   "cell_type": "code",
   "execution_count": null,
   "id": "6dd102dd",
   "metadata": {},
   "outputs": [],
   "source": []
  },
  {
   "cell_type": "code",
   "execution_count": null,
   "id": "fb1fcc6d",
   "metadata": {},
   "outputs": [],
   "source": []
  }
 ],
 "metadata": {
  "kernelspec": {
   "display_name": "Python 3 (ipykernel)",
   "language": "python",
   "name": "python3"
  },
  "language_info": {
   "codemirror_mode": {
    "name": "ipython",
    "version": 3
   },
   "file_extension": ".py",
   "mimetype": "text/x-python",
   "name": "python",
   "nbconvert_exporter": "python",
   "pygments_lexer": "ipython3",
   "version": "3.9.7"
  }
 },
 "nbformat": 4,
 "nbformat_minor": 5
}
